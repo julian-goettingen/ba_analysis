{
 "cells": [
  {
   "cell_type": "code",
   "execution_count": 1,
   "metadata": {},
   "outputs": [
    {
     "name": "stdout",
     "output_type": "stream",
     "text": [
      "einfach geimpfte zählen als :\n",
      "Gesamtbevölkerung:\n",
      "Todesrate geimpfte: 0.925%\n",
      "Todesrate ungeimpfte: 0.213%\n",
      "\n",
      "unter 50jährige:\n",
      "Todesrate geimpfte: 0.067%\n",
      "Todesrate ungeimpfte: 0.04%\n",
      "\n",
      "über 50jährige:\n",
      "Todesrate geimpfte: 1.986%\n",
      "Todesrate ungeimpfte: 6.502%\n",
      "\n",
      "einfach geimpfte zählen als geimpft\n",
      "Gesamtbevölkerung:\n",
      "Todesrate geimpfte: 0.925%\n",
      "Todesrate ungeimpfte: 0.213%\n",
      "\n",
      "unter 50jährige:\n",
      "Todesrate geimpfte: 0.067%\n",
      "Todesrate ungeimpfte: 0.04%\n",
      "\n",
      "über 50jährige:\n",
      "Todesrate geimpfte: 1.986%\n",
      "Todesrate ungeimpfte: 6.502%\n",
      "\n"
     ]
    }
   ],
   "source": [
    "def show_death_rates(vaxxed_cases, unvaxxed_cases, vaxxed_deaths, unvaxxed_deaths):\n",
    "\n",
    "    \n",
    "\n",
    "    death_rate_vaxxed = (vaxxed_deaths/vaxxed_cases)*100\n",
    "    death_rate_unvaxxed = (unvaxxed_deaths/unvaxxed_cases)*100\n",
    "\n",
    "    print(f\"Todesrate geimpfte: {round(death_rate_vaxxed,3)}%\")\n",
    "    print(f\"Todesrate ungeimpfte: {round(death_rate_unvaxxed,3)}%\")\n",
    "    print()\n",
    "    \n",
    "print(\"einfach geimpfte zählen als :\")\n",
    "print(\"Gesamtbevölkerung:\")    \n",
    "show_death_rates(vaxxed_cases = 73372, unvaxxed_cases = 183133, vaxxed_deaths = 679, unvaxxed_deaths = 390)\n",
    "\n",
    "print(\"unter 50jährige:\")\n",
    "show_death_rates(vaxxed_cases = 40544, unvaxxed_cases = 178240, vaxxed_deaths = 27, unvaxxed_deaths = 72)\n",
    "\n",
    "print(\"über 50jährige:\")\n",
    "show_death_rates(vaxxed_cases = 32828, unvaxxed_cases = 4891, vaxxed_deaths = 652, unvaxxed_deaths = 318)\n",
    "\n",
    "\n",
    "print(\"einfach geimpfte zählen als geimpft\")\n",
    "print(\"Gesamtbevölkerung:\")    \n",
    "show_death_rates(vaxxed_cases = 73372, unvaxxed_cases = 183133, vaxxed_deaths = 679, unvaxxed_deaths = 390)\n",
    "\n",
    "print(\"unter 50jährige:\")\n",
    "show_death_rates(vaxxed_cases = 40544, unvaxxed_cases = 178240, vaxxed_deaths = 27, unvaxxed_deaths = 72)\n",
    "\n",
    "print(\"über 50jährige:\")\n",
    "show_death_rates(vaxxed_cases = 32828, unvaxxed_cases = 4891, vaxxed_deaths = 652, unvaxxed_deaths = 318)\n",
    "\n"
   ]
  },
  {
   "cell_type": "code",
   "execution_count": null,
   "metadata": {},
   "outputs": [],
   "source": []
  }
 ],
 "metadata": {
  "kernelspec": {
   "display_name": "Python 3",
   "language": "python",
   "name": "python3"
  },
  "language_info": {
   "codemirror_mode": {
    "name": "ipython",
    "version": 3
   },
   "file_extension": ".py",
   "mimetype": "text/x-python",
   "name": "python",
   "nbconvert_exporter": "python",
   "pygments_lexer": "ipython3",
   "version": "3.7.9"
  }
 },
 "nbformat": 4,
 "nbformat_minor": 2
}
